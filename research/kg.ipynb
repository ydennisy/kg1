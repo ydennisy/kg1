{
 "cells": [
  {
   "cell_type": "code",
   "execution_count": 1,
   "metadata": {},
   "outputs": [],
   "source": [
    "import os\n",
    "import requests\n",
    "from trafilatura import extract\n",
    "import instructor\n",
    "from openai import OpenAI\n",
    "from dotenv import load_dotenv\n",
    "\n",
    "load_dotenv()"
   ]
  },
  {
   "cell_type": "code",
   "execution_count": 27,
   "metadata": {},
   "outputs": [],
   "source": [
    "def fetch_text(url: str) -> str:\n",
    "    r = requests.get(url)\n",
    "    if r.status_code == 200:\n",
    "        html = r.text\n",
    "        extracted = extract(html)\n",
    "        return extracted\n",
    "    else:\n",
    "        raise Exception(\n",
    "            f\"Failed to fetch the HTML content. Status code: {r.status_code}\"\n",
    "        )\n",
    "\n",
    "\n",
    "def fetch_diffbot(content):\n",
    "    fields = \"entities,sentiment,facts,records,categories,sentences,language,summary\"\n",
    "    token = os.getenv(\"DIFFBOT_API_KEY\")\n",
    "    r = requests.post(\n",
    "        f\"https://nl.diffbot.com/v1/?fields={fields}&token={token}\",\n",
    "        json={\"content\": content, \"lang\": \"en\"},\n",
    "    )\n",
    "    r.raise_for_status()\n",
    "    return r.json()"
   ]
  },
  {
   "cell_type": "code",
   "execution_count": 28,
   "metadata": {},
   "outputs": [],
   "source": [
    "doc = fetch_text(\"https://arxiv.org/html/1706.03762v7\")\n",
    "parsed = fetch_diffbot(doc)"
   ]
  },
  {
   "cell_type": "code",
   "execution_count": 35,
   "metadata": {},
   "outputs": [],
   "source": [
    "from google.cloud import language_v2\n",
    "\n",
    "\n",
    "def sample_analyze_entities(text_content: str) -> None:\n",
    "    client = language_v2.LanguageServiceClient()\n",
    "    document_type_in_plain_text = language_v2.Document.Type.PLAIN_TEXT\n",
    "    language_code = \"en\"\n",
    "    document = {\n",
    "        \"content\": text_content,\n",
    "        \"type_\": document_type_in_plain_text,\n",
    "        \"language_code\": language_code,\n",
    "    }\n",
    "    encoding_type = language_v2.EncodingType.UTF8\n",
    "\n",
    "    response = client.analyze_entities(\n",
    "        request={\"document\": document, \"encoding_type\": encoding_type}\n",
    "    )\n",
    "\n",
    "    for entity in response.entities:\n",
    "        print(f\"Representative name for the entity: {entity.name}\")\n",
    "        print(f\"Entity type: {language_v2.Entity.Type(entity.type_).name}\")\n",
    "        for metadata_name, metadata_value in entity.metadata.items():\n",
    "            print(f\"{metadata_name}: {metadata_value}\")\n",
    "\n",
    "        for mention in entity.mentions:\n",
    "            print(f\"Mention text: {mention.text.content}\")\n",
    "            print(f\"Mention type: {language_v2.EntityMention.Type(mention.type_).name}\")\n",
    "            print(f\"Probability score: {mention.probability}\")\n",
    "    print(f\"Language of the text: {response.language_code}\")\n",
    "    return response"
   ]
  },
  {
   "cell_type": "code",
   "execution_count": null,
   "metadata": {},
   "outputs": [],
   "source": []
  },
  {
   "cell_type": "code",
   "execution_count": 38,
   "metadata": {},
   "outputs": [],
   "source": [
    "from typing import Any, Dict, List\n",
    "\n",
    "from pydantic import BaseModel, Field\n",
    "\n",
    "\n",
    "class Metadata(BaseModel):\n",
    "    createdDate: str = Field(\n",
    "        ..., description=\"The date the knowledge graph was created\"\n",
    "    )\n",
    "    lastUpdated: str = Field(\n",
    "        ..., description=\"The date the knowledge graph was last updated\"\n",
    "    )\n",
    "    description: str = Field(..., description=\"Description of the knowledge graph\")\n",
    "\n",
    "\n",
    "class Node(BaseModel):\n",
    "    id: str = Field(..., description=\"Unique identifier for the node\")\n",
    "    label: str = Field(..., description=\"Label for the node\")\n",
    "    type: str = Field(..., description=\"Type of the node\")\n",
    "    color: str = Field(..., description=\"Color for the node\")\n",
    "    properties: Dict[str, Any] = Field(\n",
    "        {}, description=\"Additional attributes for the node\"\n",
    "    )\n",
    "\n",
    "\n",
    "class Edge(BaseModel):\n",
    "    # WARING: Notice that this is \"from_\", not \"from\"\n",
    "    from_: str = Field(..., alias=\"from\", description=\"Origin node ID\")\n",
    "    to: str = Field(..., description=\"Destination node ID\")\n",
    "    relationship: str = Field(..., description=\"Type of relationship between the nodes\")\n",
    "    direction: str = Field(..., description=\"Direction of the relationship\")\n",
    "    color: str = Field(..., description=\"Color for the edge\")\n",
    "    properties: Dict[str, Any] = Field(\n",
    "        {}, description=\"Additional attributes for the edge\"\n",
    "    )\n",
    "\n",
    "\n",
    "class KnowledgeGraph(BaseModel):\n",
    "    \"\"\"Generate a knowledge graph with entities and relationships.\n",
    "    Use the colors to help differentiate between different node or edge types/categories.\n",
    "    Always provide light pastel colors that work well with black font.\n",
    "    \"\"\"\n",
    "\n",
    "    metadata: Metadata = Field(..., description=\"Metadata for the knowledge graph\")\n",
    "    nodes: List[Node] = Field(..., description=\"List of nodes in the knowledge graph\")\n",
    "    edges: List[Edge] = Field(..., description=\"List of edges in the knowledge graph\")"
   ]
  },
  {
   "cell_type": "code",
   "execution_count": 39,
   "metadata": {},
   "outputs": [],
   "source": [
    "client = instructor.from_openai(OpenAI())\n",
    "\n",
    "\n",
    "def generate_graph() -> KnowledgeGraph:\n",
    "    return client.chat.completions.create(\n",
    "        model=\"gpt-4o\",\n",
    "        messages=[\n",
    "            {\n",
    "                \"role\": \"user\",\n",
    "                \"content\": f\"Help me understand the provided document by describing it as a detailed knowledge graph.\\n DOCUMENT:\\n----------\\n{doc}\",\n",
    "            }\n",
    "        ],\n",
    "        response_model=KnowledgeGraph,\n",
    "    )"
   ]
  },
  {
   "cell_type": "code",
   "execution_count": 40,
   "metadata": {},
   "outputs": [],
   "source": [
    "kg = generate_graph()"
   ]
  },
  {
   "cell_type": "code",
   "execution_count": 41,
   "metadata": {},
   "outputs": [
    {
     "name": "stdout",
     "output_type": "stream",
     "text": [
      "id='1' label='Attention Is All You Need' type='Paper' color='#FFDDC1' properties={}\n",
      "id='2' label='Transformer' type='Model' color='#FFEE93' properties={}\n",
      "id='3' label='Attention Mechanism' type='Concept' color='#FFABAB' properties={}\n",
      "id='4' label='Self-Attention' type='Concept' color='#FFABAB' properties={}\n",
      "id='5' label='Multi-Head Attention' type='Concept' color='#FFABAB' properties={}\n",
      "id='6' label='Encoder' type='Component' color='#B5EAD7' properties={}\n",
      "id='7' label='Decoder' type='Component' color='#B5EAD7' properties={}\n",
      "id='8' label='Scaled Dot-Product Attention' type='Concept' color='#FFABAB' properties={}\n",
      "id='9' label='Recurrent Neural Networks' type='Model' color='#FFEE93' properties={}\n",
      "id='10' label='Convolutional Neural Networks' type='Model' color='#FFEE93' properties={}\n",
      "id='11' label='Sequence Transduction' type='Research Area' color='#BFC0C0' properties={}\n",
      "id='12' label='Machine Translation' type='Task' color='#BFC0C0' properties={}\n",
      "id='13' label='English-to-German Translation' type='Task' color='#BFC0C0' properties={}\n",
      "id='14' label='BLEU Score' type='Performance Metric' color='#C7CEEA' properties={}\n",
      "id='15' label='WMT 2014' type='Dataset' color='#C9CBA3' properties={}\n",
      "id='16' label='Hyperparameters' type='Parameter' color='#BFC0C0' properties={}\n",
      "id='17' label='Softmax Function' type='Element' color='#C2F2F0' properties={}\n",
      "id='18' label='Residual Connection' type='Element' color='#C2F2F0' properties={}\n",
      "id='19' label='Layer Normalization' type='Element' color='#C2F2F0' properties={}\n",
      "id='20' label='Positional Encoding' type='Element' color='#C2F2F0' properties={}\n",
      "id='21' label='ReLU Activation' type='Element' color='#C2F2F0' properties={}\n",
      "id='22' label='Feed-Forward Network' type='Component' color='#B5EAD7' properties={}\n",
      "id='23' label='Adam Optimizer' type='Learning Algorithm' color='#BFC0C0' properties={}\n",
      "id='24' label='Dropout' type='Regularization Technique' color='#BFC0C0' properties={}\n",
      "id='25' label='Label Smoothing' type='Regularization Technique' color='#BFC0C0' properties={}\n",
      "id='26' label='Training Data' type='Data' color='#C9CBA3' properties={}\n",
      "id='27' label='Wall Street Journal Corpus' type='Dataset' color='#C9CBA3' properties={}\n",
      "id='28' label='Penn Treebank' type='Dataset' color='#C9CBA3' properties={}\n",
      "id='29' label='Performance' type='Evaluation' color='#C7CEEA' properties={}\n"
     ]
    }
   ],
   "source": [
    "for node in kg.nodes:\n",
    "    print(node)"
   ]
  },
  {
   "cell_type": "code",
   "execution_count": 42,
   "metadata": {},
   "outputs": [
    {
     "name": "stdout",
     "output_type": "stream",
     "text": [
      "from_='1' to='2' relationship='proposes' direction='directed' color='#FFA69E' properties={}\n",
      "from_='1' to='3' relationship='utilizes' direction='directed' color='#FF686B' properties={}\n",
      "from_='2' to='4' relationship='relies on' direction='directed' color='#FF686B' properties={}\n",
      "from_='2' to='5' relationship='includes' direction='directed' color='#FF686B' properties={}\n",
      "from_='2' to='6' relationship='contains' direction='directed' color='#55CBCD' properties={}\n",
      "from_='2' to='7' relationship='contains' direction='directed' color='#55CBCD' properties={}\n",
      "from_='2' to='12' relationship='applied to' direction='directed' color='#A6C4A2' properties={}\n",
      "from_='2' to='22' relationship='includes' direction='directed' color='#55CBCD' properties={}\n",
      "from_='3' to='4' relationship='special case of' direction='directed' color='#FF686B' properties={}\n",
      "from_='3' to='8' relationship='includes' direction='directed' color='#FF686B' properties={}\n",
      "from_='4' to='5' relationship='enhanced by' direction='directed' color='#FF686B' properties={}\n",
      "from_='6' to='4' relationship='composed of' direction='directed' color='#55CBCD' properties={}\n",
      "from_='7' to='4' relationship='composed of' direction='directed' color='#55CBCD' properties={}\n",
      "from_='7' to='5' relationship='includes' direction='directed' color='#55CBCD' properties={}\n",
      "from_='1' to='9' relationship='compares with' direction='directed' color='#FFA69E' properties={}\n",
      "from_='1' to='10' relationship='compares with' direction='directed' color='#FFA69E' properties={}\n",
      "from_='1' to='11' relationship='field of' direction='directed' color='#A6C4A2' properties={}\n",
      "from_='1' to='12' relationship='evaluated on' direction='directed' color='#A6C4A2' properties={}\n",
      "from_='12' to='13' relationship='includes' direction='directed' color='#A6C4A2' properties={}\n",
      "from_='1' to='14' relationship='measured by' direction='directed' color='#A6C4A2' properties={}\n",
      "from_='2' to='14' relationship='achieves high' direction='directed' color='#A6C4A2' properties={}\n",
      "from_='13' to='15' relationship='using dataset' direction='directed' color='#A6C4A2' properties={}\n",
      "from_='1' to='16' relationship='specifies' direction='directed' color='#FFA69E' properties={}\n",
      "from_='2' to='16' relationship='involves' direction='directed' color='#FFA69E' properties={}\n",
      "from_='6' to='18' relationship='uses' direction='directed' color='#55CBCD' properties={}\n",
      "from_='6' to='19' relationship='uses' direction='directed' color='#55CBCD' properties={}\n",
      "from_='6' to='20' relationship='uses' direction='directed' color='#55CBCD' properties={}\n",
      "from_='22' to='21' relationship='uses' direction='directed' color='#55CBCD' properties={}\n",
      "from_='2' to='23' relationship='trained with' direction='directed' color='#A6C4A2' properties={}\n",
      "from_='2' to='24' relationship='regularized by' direction='directed' color='#A6C4A2' properties={}\n",
      "from_='2' to='25' relationship='regularized by' direction='directed' color='#A6C4A2' properties={}\n",
      "from_='23' to='16' relationship='tuned with' direction='directed' color='#A6C4A2' properties={}\n",
      "from_='1' to='26' relationship='uses' direction='directed' color='#FFA69E' properties={}\n",
      "from_='1' to='27' relationship='uses' direction='directed' color='#FFA69E' properties={}\n",
      "from_='1' to='28' relationship='uses' direction='directed' color='#FFA69E' properties={}\n",
      "from_='13' to='29' relationship='evaluated with' direction='directed' color='#C7CEEA' properties={}\n",
      "from_='12' to='29' relationship='evaluated with' direction='directed' color='#C7CEEA' properties={}\n"
     ]
    }
   ],
   "source": [
    "for edge in kg.edges:\n",
    "    print(edge)"
   ]
  },
  {
   "cell_type": "code",
   "execution_count": null,
   "metadata": {},
   "outputs": [],
   "source": []
  }
 ],
 "metadata": {
  "kernelspec": {
   "display_name": ".venv",
   "language": "python",
   "name": "python3"
  },
  "language_info": {
   "codemirror_mode": {
    "name": "ipython",
    "version": 3
   },
   "file_extension": ".py",
   "mimetype": "text/x-python",
   "name": "python",
   "nbconvert_exporter": "python",
   "pygments_lexer": "ipython3",
   "version": "3.12.5"
  }
 },
 "nbformat": 4,
 "nbformat_minor": 2
}
