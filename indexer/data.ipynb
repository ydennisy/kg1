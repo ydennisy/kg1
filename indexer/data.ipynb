{
 "cells": [
  {
   "cell_type": "code",
   "execution_count": null,
   "metadata": {},
   "outputs": [],
   "source": [
    "import re\n",
    "import os\n",
    "import time\n",
    "import requests\n",
    "import pandas as pd\n",
    "from dotenv import load_dotenv; load_dotenv()\n",
    "from tqdm import tqdm"
   ]
  },
  {
   "cell_type": "code",
   "execution_count": null,
   "metadata": {},
   "outputs": [],
   "source": [
    "df = pd.read_csv(\"data/urls-20240616.csv\")\n",
    "df[\"text\"] = df.subject + \" \" + df.body\n",
    "texts = df.text.to_list()"
   ]
  },
  {
   "cell_type": "code",
   "execution_count": null,
   "metadata": {},
   "outputs": [],
   "source": [
    "def extract_urls(text):\n",
    "    url_pattern = re.compile(r'(?:(?:https?|ftp):\\/\\/)?[\\w/\\-?=%.]+\\.[\\w/\\-?=%.]+')\n",
    "    urls = re.findall(url_pattern, text)\n",
    "    for i, url in enumerate(urls):\n",
    "        if not url.startswith((\"http://\", \"https://\")):\n",
    "            urls[i] = \"http://\" + url\n",
    "    return urls"
   ]
  },
  {
   "cell_type": "code",
   "execution_count": null,
   "metadata": {},
   "outputs": [],
   "source": [
    "results = []\n",
    "\n",
    "for text in texts:\n",
    "    try:\n",
    "        urls = extract_urls(text)\n",
    "        results.extend(urls)\n",
    "    except Exception as ex:\n",
    "        print(text, ex)"
   ]
  },
  {
   "cell_type": "code",
   "execution_count": null,
   "metadata": {},
   "outputs": [],
   "source": [
    "final = pd.DataFrame({ \"url\": results })\n",
    "final = final.drop_duplicates().dropna()\n",
    "final.to_csv(\"urls-processed-20240616.csv\", index=False)\n",
    "print(f\"There are {len(final)} URLs to index.\")"
   ]
  },
  {
   "cell_type": "code",
   "execution_count": null,
   "metadata": {},
   "outputs": [],
   "source": [
    "admin_api_key = os.getenv(\"ADMIN_API_KEY\")\n",
    "user_id = \"832c407c-280f-4976-8840-1a7f81be20b5\"\n",
    "headers = {\n",
    "    \"x-admin-api-key\": admin_api_key\n",
    "}\n",
    "\n",
    "for url in tqdm(results, desc=\"Indexing URLs...\"):\n",
    "    try:\n",
    "        requests.post(\"http://localhost:8000/api/admin/index\", headers=headers, json={\"urls\": [url]}, params={\"user_id\": user_id})\n",
    "        time.sleep(2)\n",
    "    except Exception as ex:\n",
    "        print(ex)"
   ]
  },
  {
   "cell_type": "code",
   "execution_count": null,
   "metadata": {},
   "outputs": [],
   "source": []
  }
 ],
 "metadata": {
  "kernelspec": {
   "display_name": ".venv",
   "language": "python",
   "name": "python3"
  },
  "language_info": {
   "codemirror_mode": {
    "name": "ipython",
    "version": 3
   },
   "file_extension": ".py",
   "mimetype": "text/x-python",
   "name": "python",
   "nbconvert_exporter": "python",
   "pygments_lexer": "ipython3",
   "version": "3.11.5"
  }
 },
 "nbformat": 4,
 "nbformat_minor": 2
}
