{
 "cells": [
  {
   "cell_type": "code",
   "execution_count": 1,
   "metadata": {},
   "outputs": [],
   "source": [
    "import re\n",
    "import os\n",
    "import time\n",
    "import requests\n",
    "import pandas as pd\n",
    "from dotenv import load_dotenv; load_dotenv()\n",
    "from supabase import create_client, Client"
   ]
  },
  {
   "cell_type": "code",
   "execution_count": 2,
   "metadata": {},
   "outputs": [],
   "source": [
    "supabase: Client = create_client(\n",
    "    os.environ.get(\"SUPABASE_URL\"),\n",
    "    os.environ.get(\"SUPABASE_KEY\")\n",
    ")"
   ]
  },
  {
   "cell_type": "code",
   "execution_count": 4,
   "metadata": {},
   "outputs": [],
   "source": [
    "USER_ID = \"c9e3aa85-b7f9-4ee7-b6ab-2673b46662aa\"\n",
    "user = supabase.auth.admin.get_user_by_id(USER_ID)"
   ]
  },
  {
   "cell_type": "code",
   "execution_count": 8,
   "metadata": {},
   "outputs": [
    {
     "data": {
      "text/plain": [
       "UserResponse(user=User(id='c9e3aa85-b7f9-4ee7-b6ab-2673b46662aa', app_metadata={'provider': 'github', 'providers': ['github']}, user_metadata={'avatar_url': 'https://avatars.githubusercontent.com/u/10243849?v=4', 'email': 'dennis@airgrid.io', 'email_verified': True, 'full_name': 'Dennis', 'iss': 'https://api.github.com', 'name': 'Dennis', 'phone_verified': False, 'preferred_username': 'ydennisy', 'provider_id': '10243849', 'sub': '10243849', 'user_name': 'ydennisy'}, aud='authenticated', confirmation_sent_at=None, recovery_sent_at=None, email_change_sent_at=None, new_email=None, invited_at=None, action_link=None, email='dennis@airgrid.io', phone='', created_at=datetime.datetime(2024, 6, 16, 14, 4, 2, 590913, tzinfo=TzInfo(UTC)), confirmed_at=datetime.datetime(2024, 6, 16, 14, 4, 2, 595941, tzinfo=TzInfo(UTC)), email_confirmed_at=datetime.datetime(2024, 6, 16, 14, 4, 2, 595941, tzinfo=TzInfo(UTC)), phone_confirmed_at=None, last_sign_in_at=datetime.datetime(2024, 6, 16, 14, 4, 26, 290729, tzinfo=TzInfo(UTC)), role='authenticated', updated_at=datetime.datetime(2024, 6, 29, 6, 48, 47, 932910, tzinfo=TzInfo(UTC)), identities=[UserIdentity(id='10243849', identity_id='0b699a0e-4f94-41fb-b2c5-f5936c9a2e8b', user_id='c9e3aa85-b7f9-4ee7-b6ab-2673b46662aa', identity_data={'avatar_url': 'https://avatars.githubusercontent.com/u/10243849?v=4', 'email': 'dennis@airgrid.io', 'email_verified': True, 'full_name': 'Dennis', 'iss': 'https://api.github.com', 'name': 'Dennis', 'phone_verified': False, 'preferred_username': 'ydennisy', 'provider_id': '10243849', 'sub': '10243849', 'user_name': 'ydennisy'}, provider='github', created_at=datetime.datetime(2024, 6, 16, 14, 4, 2, 594030, tzinfo=TzInfo(UTC)), last_sign_in_at=datetime.datetime(2024, 6, 16, 14, 4, 2, 594012, tzinfo=TzInfo(UTC)), updated_at=datetime.datetime(2024, 6, 16, 14, 4, 26, 35347, tzinfo=TzInfo(UTC)))], factors=None))"
      ]
     },
     "execution_count": 8,
     "metadata": {},
     "output_type": "execute_result"
    }
   ],
   "source": [
    "supabase.auth.set_session()"
   ]
  },
  {
   "cell_type": "code",
   "execution_count": null,
   "metadata": {},
   "outputs": [],
   "source": [
    "df = pd.read_csv(\"data/urls-20240616.csv\")\n",
    "df[\"text\"] = df.subject + \" \" + df.body\n",
    "texts = df.text.to_list()"
   ]
  },
  {
   "cell_type": "code",
   "execution_count": null,
   "metadata": {},
   "outputs": [],
   "source": [
    "def extract_urls(text):\n",
    "    url_pattern = re.compile(r'(?:(?:https?|ftp):\\/\\/)?[\\w/\\-?=%.]+\\.[\\w/\\-?=%.]+')\n",
    "    urls = re.findall(url_pattern, text)\n",
    "    for i, url in enumerate(urls):\n",
    "        if not url.startswith((\"http://\", \"https://\")):\n",
    "            urls[i] = \"http://\" + url\n",
    "    return urls"
   ]
  },
  {
   "cell_type": "code",
   "execution_count": null,
   "metadata": {},
   "outputs": [],
   "source": [
    "results = []\n",
    "\n",
    "for text in texts:\n",
    "    try:\n",
    "        urls = extract_urls(text)\n",
    "        results.extend(urls)\n",
    "    except Exception as ex:\n",
    "        print(text, ex)"
   ]
  },
  {
   "cell_type": "code",
   "execution_count": null,
   "metadata": {},
   "outputs": [],
   "source": [
    "final = pd.DataFrame({ \"url\": results })\n",
    "final.to_csv(\"urls-processed-20240616.csv\", index=False)"
   ]
  },
  {
   "cell_type": "code",
   "execution_count": null,
   "metadata": {},
   "outputs": [],
   "source": [
    "token = os.getenv(\"TOKEN\")\n",
    "headers = {\n",
    "    \"Authorization\": f\"Bearer {token}\"\n",
    "}\n",
    "for url in results:\n",
    "    requests.post(\"http://localhost:8000/api/index\", headers=headers, json={\"urls\": [url]})\n",
    "    time.sleep(1)\n"
   ]
  },
  {
   "cell_type": "code",
   "execution_count": null,
   "metadata": {},
   "outputs": [],
   "source": []
  }
 ],
 "metadata": {
  "kernelspec": {
   "display_name": ".venv",
   "language": "python",
   "name": "python3"
  },
  "language_info": {
   "codemirror_mode": {
    "name": "ipython",
    "version": 3
   },
   "file_extension": ".py",
   "mimetype": "text/x-python",
   "name": "python",
   "nbconvert_exporter": "python",
   "pygments_lexer": "ipython3",
   "version": "3.11.5"
  }
 },
 "nbformat": 4,
 "nbformat_minor": 2
}
