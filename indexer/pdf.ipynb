{
 "cells": [
  {
   "cell_type": "code",
   "execution_count": 16,
   "metadata": {},
   "outputs": [],
   "source": [
    "import fitz\n",
    "\n",
    "from unstructured.partition.pdf import partition_pdf\n",
    "from unstructured.partition.html import partition_html\n",
    "from llama_index.readers.file import PyMuPDFReader"
   ]
  },
  {
   "cell_type": "code",
   "execution_count": 17,
   "metadata": {},
   "outputs": [],
   "source": [
    "pdf_loader = PyMuPDFReader()\n",
    "\n",
    "def pymu_pdf(file: str):\n",
    "    pages = pdf_loader.load_data(file_path=file, metadata=True)\n",
    "    metadata = fitz.open(file)\n",
    "    return metadata, pages"
   ]
  },
  {
   "cell_type": "code",
   "execution_count": 18,
   "metadata": {},
   "outputs": [],
   "source": [
    "def unstructured_pdf(file: str, languages: list[str] = False):\n",
    "    elements = partition_pdf(file, languages=languages)\n",
    "    return elements"
   ]
  },
  {
   "cell_type": "code",
   "execution_count": 21,
   "metadata": {},
   "outputs": [],
   "source": [
    "metadata, pages = pymu_pdf(\"ara.pdf\")"
   ]
  },
  {
   "cell_type": "code",
   "execution_count": 27,
   "metadata": {},
   "outputs": [
    {
     "data": {
      "text/plain": [
       "[Document(id_='b51fb70f-30a0-48c9-bae5-db4d3931ca28', embedding=None, metadata={'total_pages': 2, 'file_path': 'ara.pdf', 'source': '1'}, excluded_embed_metadata_keys=[], excluded_llm_metadata_keys=[], relationships={}, text='GET AHEAD IN YOUR COOKIELESS MEASUREMENT \\nJOURNEY WITH PRIVACY SANDBOX TESTING AT MiQ\\nMeasurement and attribution are in advertisers’ top 3 concerns for a cookieless future. \\nBut the future is now. Here’s why it’s time to get started:\\nW E A R E M i Q.C O M\\nPrivacy Sandbox \\ntesting\\nDon’t wait for the deadline\\nAlthough Chrome is disabling \\nthird-party cookies for users \\nincrementally from January 2024, \\nthe browser has already started \\nreleasing cookieless measurement \\ntools - giving you a headstart!\\nIT’S TIME TO SAY GOODBYE TO...\\nMeasurement and attribution as you know it. For 20 years, online advertising has heavily relied on third-party cookies. A \\nglobal tech change instigated by privacy concerns means cookies are being replaced by ‘privacy-safe’ solutions. \\nPractice makes perfect\\nWhile Chrome’s Sandbox \\nsolutions can be used right \\naway, it’s worth taking time to \\nintegrate them into existing \\nworkflows for tailor-made \\nreporting.\\nIt all comes back to ROI\\nWithout measurement, you simply \\ndon’t know which creatives, \\nchannels and  formats to prioritize. \\nMeasurement is key for campaign \\noptimization and essential for \\ndriving users towards your KPIs.\\nAND HELLO TO...\\nBrowser-based, privacy-first solutions that work for both \\nadvertisers and users.  \\nPrivacy Sandbox is Chrome’s new, ‘privacy-safe’ initiative. With \\nlimited re-identification of users, Sandbox APIs allow advertisers to \\nquery data stored by Chrome without data leaving users’ devices.\\n', start_char_idx=None, end_char_idx=None, text_template='{metadata_str}\\n\\n{content}', metadata_template='{key}: {value}', metadata_seperator='\\n'),\n",
       " Document(id_='6f965a69-f745-418f-8fec-8f28c1acd575', embedding=None, metadata={'total_pages': 2, 'file_path': 'ara.pdf', 'source': '2'}, excluded_embed_metadata_keys=[], excluded_llm_metadata_keys=[], relationships={}, text='W E A R E M i Q.C O M\\n To get involved in our Attribution Reporting test, reach out to us at \\nwearemiq.com/contact/ or speak to your MiQ representative today.\\nSOUND PROMISING? WE THINK SO TOO.\\nTECH \\nENABLED\\nSandbox launched local data \\nstorage for advertising on a \\nhuge scale. But edge computing \\nis nothing new at MiQ. For \\nyears it’s been the foundation \\nof AirGrid, our browser-based \\nsolution, giving us a unique \\nadvantage in applying Google’s \\nnew technology.\\nPARTNER \\nAGNOSTIC\\nMiQ has big plans for cookieless \\nmeasurement, made possible \\nby our partner agnosticism. As \\nbrands typically use multiple \\nmeasurement partners, we’re \\nworking towards making Sandbox \\nsolutions available across your \\nperformance tech stack.\\nPEOPLE \\nPOWERED\\nUnderstanding new browser-\\nbased solutions like Sandbox \\ncan be tricky. Fortunately, MiQ’s \\nexperienced edge computing \\nexperts and 300+ data scientists \\nare already primed to measure \\nand optimize your campaigns.\\nCONCERNED ABOUT SANDBOX COMPLEXITY? OVERCOME THIS BY WORKING WITH \\nA PARTNER WHO IS.\\nMiQ has been building on the same privacy-first principle for years - precise targeting and measurement doesn’t \\nrequire user data to leave the device.\\nThis alignment has allowed us to be early adopters and testers of Chrome’s new Sandbox technology. Now we’re \\nopening this exciting opportunity to you!\\nPRIVACY-SAFE MEASUREMENT AND TARGETING WITH CHROME’S \\nATTRIBUTION REPORTING API\\nThe Attribution Reporting API - part of Privacy Sandbox - was rolled out across \\n100% of Chrome traffic in July 2023. \\nMiQ is using this API to test: \\nID-less campaign attribution, measuring clicks/views-to-conversions.\\nCustom audience generation using Sandbox data and AirGrid technology.\\nUnlike ID-based solutions, this is an out-of-the-box solution offering faster setup.\\nGet involved by adding MiQ-provided custom tags to your conversion points.\\nYOU’LL RECEIVE\\nUnique cookie-based vs cookieless measurement comparison report\\nCustom analysis on the impact of future data limitations on your performance\\nAdditional insights and audiences generated from your data - no extra lift required!\\n', start_char_idx=None, end_char_idx=None, text_template='{metadata_str}\\n\\n{content}', metadata_template='{key}: {value}', metadata_seperator='\\n')]"
      ]
     },
     "execution_count": 27,
     "metadata": {},
     "output_type": "execute_result"
    }
   ],
   "source": [
    "pages"
   ]
  },
  {
   "cell_type": "code",
   "execution_count": 22,
   "metadata": {},
   "outputs": [],
   "source": [
    "elements = unstructured_pdf(\"ara.pdf\")"
   ]
  },
  {
   "cell_type": "code",
   "execution_count": 26,
   "metadata": {},
   "outputs": [
    {
     "data": {
      "text/plain": [
       "[<unstructured.documents.elements.Title at 0x2dc761810>,\n",
       " <unstructured.documents.elements.Text at 0x2dc761a10>,\n",
       " <unstructured.documents.elements.NarrativeText at 0x2dc7cf7d0>,\n",
       " <unstructured.documents.elements.Title at 0x2db789250>,\n",
       " <unstructured.documents.elements.NarrativeText at 0x2dc6e9190>,\n",
       " <unstructured.documents.elements.NarrativeText at 0x2dc6e9010>,\n",
       " <unstructured.documents.elements.NarrativeText at 0x2dc6e8f90>,\n",
       " <unstructured.documents.elements.NarrativeText at 0x2dc6e8e90>,\n",
       " <unstructured.documents.elements.NarrativeText at 0x2dc6e8d90>,\n",
       " <unstructured.documents.elements.Text at 0x2dc6e8b90>,\n",
       " <unstructured.documents.elements.NarrativeText at 0x2dc6e8bd0>,\n",
       " <unstructured.documents.elements.Text at 0x2dc6e8990>,\n",
       " <unstructured.documents.elements.Title at 0x2dc6e90d0>,\n",
       " <unstructured.documents.elements.NarrativeText at 0x2dc6e8890>,\n",
       " <unstructured.documents.elements.Footer at 0x2dc6e8150>,\n",
       " <unstructured.documents.elements.Header at 0x2d4fe2c10>,\n",
       " <unstructured.documents.elements.NarrativeText at 0x2db778fd0>,\n",
       " <unstructured.documents.elements.NarrativeText at 0x2d4fbe050>,\n",
       " <unstructured.documents.elements.Text at 0x2d4fbca50>,\n",
       " <unstructured.documents.elements.NarrativeText at 0x2d510c410>,\n",
       " <unstructured.documents.elements.NarrativeText at 0x2dc5d4590>,\n",
       " <unstructured.documents.elements.NarrativeText at 0x2d510ef10>,\n",
       " <unstructured.documents.elements.NarrativeText at 0x2db792e10>,\n",
       " <unstructured.documents.elements.NarrativeText at 0x2db792d90>,\n",
       " <unstructured.documents.elements.NarrativeText at 0x2d510ca90>,\n",
       " <unstructured.documents.elements.Title at 0x2db7912d0>,\n",
       " <unstructured.documents.elements.Title at 0x2db791c50>,\n",
       " <unstructured.documents.elements.Title at 0x2db791a90>,\n",
       " <unstructured.documents.elements.NarrativeText at 0x2db792650>,\n",
       " <unstructured.documents.elements.NarrativeText at 0x2db791150>,\n",
       " <unstructured.documents.elements.Title at 0x2d4f92f10>,\n",
       " <unstructured.documents.elements.Title at 0x2d4f91490>,\n",
       " <unstructured.documents.elements.Title at 0x2dc6cb090>,\n",
       " <unstructured.documents.elements.NarrativeText at 0x2db76ed10>,\n",
       " <unstructured.documents.elements.NarrativeText at 0x2dc6cb510>,\n",
       " <unstructured.documents.elements.NarrativeText at 0x2dc6cb110>,\n",
       " <unstructured.documents.elements.Footer at 0x2dc6cb450>,\n",
       " <unstructured.documents.elements.Footer at 0x2dc6cafd0>]"
      ]
     },
     "execution_count": 26,
     "metadata": {},
     "output_type": "execute_result"
    }
   ],
   "source": [
    "elements"
   ]
  },
  {
   "cell_type": "code",
   "execution_count": 24,
   "metadata": {},
   "outputs": [
    {
     "name": "stdout",
     "output_type": "stream",
     "text": [
      "Privacy Sandbox testing\n",
      "G E T A H E A D I N YO U R C O O K I E L E S S M E A S U R E M E N T J O U R N E Y W I T H P R I VAC Y S A N D B OX T E S T I N G AT M i Q\n",
      "Measurement and attribution are in advertisers’ top 3 concerns for a cookieless future. But the future is now. Here’s why it’s time to get started:\n",
      "Don’t wait for the deadline\n",
      "Practice makes perfect\n",
      "It all comes back to ROI\n",
      "Although Chrome is disabling third-party cookies for users incrementally from January 2024, the browser has already started releasing cookieless measurement tools - giving you a headstart!\n",
      "While Chrome’s Sandbox solutions can be used right away, it’s worth taking time to integrate them into existing workflows for tailor-made reporting.\n",
      "Without measurement, you simply don’t know which creatives, channels and formats to prioritize. Measurement is key for campaign optimization and essential for driving users towards your KPIs.\n",
      "I T ’ S T I M E TO S AY G O O D BY E TO.. .\n",
      "Measurement and attribution as you know it. For 20 years, online advertising has heavily relied on third-party cookies. A global tech change instigated by privacy concerns means cookies are being replaced by ‘privacy-safe’ solutions.\n",
      "A N D H E L LO TO. . .\n",
      "Browser-based, privacy-first solutions that work for both advertisers and users.\n",
      "Privacy Sandbox is Chrome’s new, ‘privacy-safe’ initiative. With limited re-identification of users, Sandbox APIs allow advertisers to query data stored by Chrome without data leaving users’ devices.\n",
      "WEAREMiQ.COM\n",
      "S O U N D P R O M I S I N G ? W E T H I N K S O T O O.\n",
      "MiQ has been building on the same privacy-first principle for years - precise targeting and measurement doesn’t require user data to leave the device.\n",
      "This alignment has allowed us to be early adopters and testers of Chrome’s new Sandbox technology. Now we’re opening this exciting opportunity to you!\n",
      "P R I VA C Y- S A F E M E A S U R E M E N T A N D TA R G E T I N G W I T H C H R O M E ’ S AT T R I B U T I O N R E P O R T I N G A P I\n",
      "The Attribution Reporting API - part of Privacy Sandbox - was rolled out across 100% of Chrome traffic in July 2023.\n",
      "MiQ is using this API to test:\n",
      "ID-less campaign attribution, measuring clicks/views-to-conversions.\n",
      "Custom audience generation using Sandbox data and AirGrid technology.\n",
      "Unlike ID-based solutions, this is an out-of-the-box solution offering faster setup.\n",
      "Get involved by adding MiQ-provided custom tags to your conversion points.\n",
      "YO U ’ L L R E C E I V E\n",
      "Unique cookie-based vs cookieless measurement comparison report\n",
      "Custom analysis on the impact of future data limitations on your performance\n",
      "Additional insights and audiences generated from your data - no extra lift required!\n",
      "C O N C E R N E D A B O U T S A N D B OX C O M P L E X I T Y ? OV E R C O M E T H I S BY W O R K I N G W I T H A PA R T N E R W H O I S .\n",
      "TECH ENABLED\n",
      "PARTNER AGNOSTIC\n",
      "PEOPLE POWERED\n",
      "Sandbox launched local data storage for advertising on a huge scale. But edge computing is nothing new at MiQ. For years it’s been the foundation of AirGrid, our browser-based solution, giving us a unique advantage in applying Google’s new technology.\n",
      "MiQ has big plans for cookieless measurement, made possible by our partner agnosticism. As brands typically use multiple measurement partners, we’re working towards making Sandbox solutions available across your performance tech stack.\n",
      "Understanding new browser- based solutions like Sandbox can be tricky. Fortunately, MiQ’s experienced edge computing experts and 300+ data scientists are already primed to measure and optimize your campaigns.\n",
      "WEAREMiQ.COM\n",
      "To get involved in our Attribution Reporting test, reach out to us at wearemiq.com/contact/ or speak to your MiQ representative today.\n"
     ]
    }
   ],
   "source": [
    "for element in elements:\n",
    "    print(element.text)"
   ]
  },
  {
   "cell_type": "code",
   "execution_count": null,
   "metadata": {},
   "outputs": [],
   "source": []
  }
 ],
 "metadata": {
  "kernelspec": {
   "display_name": ".venv",
   "language": "python",
   "name": "python3"
  },
  "language_info": {
   "codemirror_mode": {
    "name": "ipython",
    "version": 3
   },
   "file_extension": ".py",
   "mimetype": "text/x-python",
   "name": "python",
   "nbconvert_exporter": "python",
   "pygments_lexer": "ipython3",
   "version": "3.11.5"
  }
 },
 "nbformat": 4,
 "nbformat_minor": 2
}
