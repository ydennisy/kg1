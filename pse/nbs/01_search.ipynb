{
 "cells": [
  {
   "cell_type": "code",
   "execution_count": 32,
   "metadata": {},
   "outputs": [],
   "source": [
    "import numpy as np\n",
    "import pandas as pd\n",
    "from sentence_transformers.util import cos_sim\n",
    "from sentence_transformers import SentenceTransformer"
   ]
  },
  {
   "cell_type": "code",
   "execution_count": 71,
   "metadata": {},
   "outputs": [],
   "source": [
    "df = pd.read_csv(\"../data/pages.csv\")\n",
    "df = df.fillna(\"\")\n",
    "df[\"text\"] = df[\"url\"] + \" \" + df[\"title\"] + df[\"description\"]\n",
    "texts = df[\"text\"].values\n",
    "model = SentenceTransformer(\"sentence-transformers/all-MiniLM-L12-v2\")\n",
    "embeddings = model.encode(texts)"
   ]
  },
  {
   "cell_type": "code",
   "execution_count": 72,
   "metadata": {},
   "outputs": [],
   "source": [
    "def search(query: str, top_k: int = 10):\n",
    "    query_emb = model.encode(query)\n",
    "    #scores = cos_sim(query_emb, embeddings)[0]\n",
    "    scores = query_emb @ embeddings.T\n",
    "    #scores = scores.numpy()\n",
    "    sorted_score_indices = np.argsort(scores)[::-1][:top_k]\n",
    "    #sorted_score_indices[:top_k]\n",
    "    return dict(zip(texts[sorted_score_indices], scores[sorted_score_indices]))"
   ]
  },
  {
   "cell_type": "code",
   "execution_count": 73,
   "metadata": {},
   "outputs": [],
   "source": [
    "scores = search(\"web assembly\")"
   ]
  },
  {
   "cell_type": "code",
   "execution_count": 74,
   "metadata": {},
   "outputs": [
    {
     "data": {
      "text/plain": [
       "{'https://www.fermyon.com/blog/introducing-spin-v2 Introducing Spin 2.0Spin 2.0 — the open source developer tool for building, distributing, and running WebAssembly (Wasm) applications in the cloud.': 0.5391755,\n",
       " 'https://github.com/Avaiga/taipy GitHub - Avaiga/taipy: Turns Data and AI algorithms into production-ready web applications in no time.Turns Data and AI algorithms into production-ready web applications in no time. - GitHub - Avaiga/taipy: Turns Data and AI algorithms into production-ready web applications in no time.': 0.40055555,\n",
       " 'https://www.plasmic.app/ Plasmic | Build powerful apps fast— without the limitsPlasmic lets you build powerful web apps super fast, from internal tools to user facing products. Integrate with your codebase for unlimited possibilities.': 0.35431704,\n",
       " 'https://github.com/html5-ninja/page-replica GitHub - html5-ninja/page-replica: Page Replica – Tool for Web Scraping, Prerendering, and SEO BoostPage Replica – Tool for Web Scraping, Prerendering, and SEO Boost - GitHub - html5-ninja/page-replica: Page Replica – Tool for Web Scraping, Prerendering, and SEO Boost': 0.33369344,\n",
       " 'https://allenai.github.io/lumos/ 🪄 Lumos: Language Agents with Unified Data Formats, Modular Design, and Open-Source LLMs': 0.3041787,\n",
       " \"https://www.youtube.com/watch?v=rBpZvMAim5E LlamaIndex Webinar: Learn about Fine-tuning + RAG (w/ Victoria Lin, author of RA-DIT) - YouTubeWe're excited to talk about how to combine fine-tuning and RAG with Victoria Lin, author of the recent RA-DIT (Retrieval-Augmented Dual Instruction Tuning) p...\": 0.29538262,\n",
       " 'https://olano.dev/2023-12-12-reclaiming-the-web-with-a-personal-reader/ Reclaiming the Web with a Personal ReaderThere’s a kind of zen flow that programmers unblock when they experience their software daily as an end user. There’s no better catalyst for ideas and experimentation, no better prioritization driver than having to face the bugs, annoyances, and limitations of an application first-hand.': 0.28204393,\n",
       " 'https://github.com/Frooodle/Stirling-PDF GitHub - Stirling-Tools/Stirling-PDF: locally hosted web application that allows you to perform various operations on PDF fileslocally hosted web application that allows you to perform various operations on PDF files - GitHub - Stirling-Tools/Stirling-PDF: locally hosted web application that allows you to perform various o...': 0.28119737,\n",
       " 'https://browse.arxiv.org/html/2312.08361v1 Distributed Inference and Fine-tuning of Large Language Models Over The Internet': 0.27821374,\n",
       " 'https://t.co/0e80bEGxh8 OllamaGet up and running with large language models, locally.': 0.26868215}"
      ]
     },
     "execution_count": 74,
     "metadata": {},
     "output_type": "execute_result"
    }
   ],
   "source": [
    "scores"
   ]
  },
  {
   "cell_type": "code",
   "execution_count": null,
   "metadata": {},
   "outputs": [],
   "source": []
  }
 ],
 "metadata": {
  "kernelspec": {
   "display_name": ".venv",
   "language": "python",
   "name": "python3"
  },
  "language_info": {
   "codemirror_mode": {
    "name": "ipython",
    "version": 3
   },
   "file_extension": ".py",
   "mimetype": "text/x-python",
   "name": "python",
   "nbconvert_exporter": "python",
   "pygments_lexer": "ipython3",
   "version": "3.11.5"
  }
 },
 "nbformat": 4,
 "nbformat_minor": 2
}
